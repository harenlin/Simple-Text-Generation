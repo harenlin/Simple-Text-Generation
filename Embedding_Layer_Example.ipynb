{
  "nbformat": 4,
  "nbformat_minor": 0,
  "metadata": {
    "colab": {
      "name": "Embedding-Layer-Example.ipynb",
      "provenance": [],
      "authorship_tag": "ABX9TyNE2tg5SUcqGHx1hdFql8AL",
      "include_colab_link": true
    },
    "kernelspec": {
      "name": "python3",
      "display_name": "Python 3"
    },
    "language_info": {
      "name": "python"
    },
    "accelerator": "GPU"
  },
  "cells": [
    {
      "cell_type": "markdown",
      "metadata": {
        "id": "view-in-github",
        "colab_type": "text"
      },
      "source": [
        "<a href=\"https://colab.research.google.com/github/harenlin/Simple-Text-Generation/blob/main/Embedding_Layer_Example.ipynb\" target=\"_parent\"><img src=\"https://colab.research.google.com/assets/colab-badge.svg\" alt=\"Open In Colab\"/></a>"
      ]
    },
    {
      "cell_type": "code",
      "metadata": {
        "id": "m0N9vNbtzOX0",
        "colab": {
          "base_uri": "https://localhost:8080/"
        },
        "outputId": "b83f4910-70eb-4f32-9bc8-0aa7926aebb0"
      },
      "source": [
        "import numpy as np\n",
        "import pandas as pd\n",
        "import tensorflow as tf\n",
        "from keras.models import Model\n",
        "from keras.layers import Dense, Flatten, Input, Embedding\n",
        "\n",
        "# define documents\n",
        "docs = ['Well done!', 'Good work', 'Great effort', 'nice work', 'Excellent!',\n",
        "\t\t'Weak', 'Poor effort!', 'not good', 'poor work', 'Could have done better.']\n",
        "# define class labels\n",
        "labels = [1,1,1,1,1,0,0,0,0,0]\n",
        "\n",
        "# prepare tokenizer\n",
        "from keras.preprocessing.text import Tokenizer\n",
        "tokenizer = tf.keras.preprocessing.text.Tokenizer(num_words=50,filters='!\"#$%&()*+,-./:;<=>?@[\\\\]^_`{|}~\\t\\n') # encode sequences of words with index\n",
        "tokenizer.fit_on_texts(docs) # create a hash map of numbers and words, word2idx & idx2word\n",
        "sequences = tokenizer.texts_to_sequences(docs) # shape = (# of docs, length of text)\n",
        "print(sequences)\n",
        "vocabulary_size = len(tokenizer.word_counts)\n",
        "print(\"The size of vocab.txt is\", vocabulary_size)"
      ],
      "execution_count": 17,
      "outputs": [
        {
          "output_type": "stream",
          "text": [
            "[[6, 2], [3, 1], [7, 4], [8, 1], [9], [10], [5, 4], [11, 3], [5, 1], [12, 13, 2, 14]]\n",
            "The size of vocab.txt is 14\n"
          ],
          "name": "stdout"
        }
      ]
    },
    {
      "cell_type": "code",
      "metadata": {
        "id": "leXq5BRrylcl",
        "colab": {
          "base_uri": "https://localhost:8080/"
        },
        "outputId": "b6190a22-d005-41a5-cb50-9af016f936f2"
      },
      "source": [
        "# p.s. Member Variables of Tokenizer()\n",
        "# (1) document_count = number of documents\n",
        "print(tokenizer.document_count) \n",
        "print(len(sequences))\n",
        "# (2) word_index = word2idx (index starting from 1)\n",
        "# (3) index_word = idx2word\n",
        "print(tokenizer.index_word[5])\n",
        "print(tokenizer.word_index[tokenizer.index_word[5]])\n",
        "# (4) word_counts = dictionary of the each word and its occurence\n",
        "print(tokenizer.word_counts)"
      ],
      "execution_count": 18,
      "outputs": [
        {
          "output_type": "stream",
          "text": [
            "10\n",
            "10\n",
            "poor\n",
            "5\n",
            "OrderedDict([('well', 1), ('done', 2), ('good', 2), ('work', 3), ('great', 1), ('effort', 2), ('nice', 1), ('excellent', 1), ('weak', 1), ('poor', 2), ('not', 1), ('could', 1), ('have', 1), ('better', 1)])\n"
          ],
          "name": "stdout"
        }
      ]
    },
    {
      "cell_type": "code",
      "metadata": {
        "colab": {
          "base_uri": "https://localhost:8080/"
        },
        "id": "2qz3DGJky85r",
        "outputId": "ac9170e8-5731-4ee9-a1d8-0b8ba1b981c0"
      },
      "source": [
        "# since the max sequence length of the corpus is 4 (doc[9]), \n",
        "# we are going to made the max_seq_len = 4 -> PADDING\n",
        "from keras.preprocessing.sequence import pad_sequences\n",
        "max_seq_len = 4\n",
        "sequences = pad_sequences(sequences, maxlen=max_seq_len, padding='post')\n",
        "print(sequences)\n",
        "\n",
        "# define simple model to understand what Embedding do\n",
        "def embedding_model(vocabulary_size, hidden_dim, max_seq_len):\n",
        "    input = Input(shape=(max_seq_len))\n",
        "    x = Embedding(input_dim=vocabulary_size, output_dim=hidden_dim, input_length=max_seq_len)(input)\n",
        "    x = Flatten()(x)\n",
        "    x = Dense(1, activation='sigmoid')(x)\n",
        "    model = Model(inputs=input, outputs=x)\n",
        "    return model\n",
        "\n",
        "# hyper-parameters\n",
        "hidden_dim = 32\n",
        "# model construction\n",
        "model = embedding_model(vocabulary_size+1, hidden_dim, max_seq_len)\n",
        "print(model.summary())\n",
        "# compile the model\n",
        "model.compile(optimizer='adam', loss='binary_crossentropy', metrics=['acc'])\n",
        "# fit the model\n",
        "model.fit(sequences, np.array(labels), batch_size=4, epochs=5)"
      ],
      "execution_count": 19,
      "outputs": [
        {
          "output_type": "stream",
          "text": [
            "[[ 6  2  0  0]\n",
            " [ 3  1  0  0]\n",
            " [ 7  4  0  0]\n",
            " [ 8  1  0  0]\n",
            " [ 9  0  0  0]\n",
            " [10  0  0  0]\n",
            " [ 5  4  0  0]\n",
            " [11  3  0  0]\n",
            " [ 5  1  0  0]\n",
            " [12 13  2 14]]\n",
            "Model: \"model_3\"\n",
            "_________________________________________________________________\n",
            "Layer (type)                 Output Shape              Param #   \n",
            "=================================================================\n",
            "input_5 (InputLayer)         [(None, 4)]               0         \n",
            "_________________________________________________________________\n",
            "embedding_4 (Embedding)      (None, 4, 32)             480       \n",
            "_________________________________________________________________\n",
            "flatten_3 (Flatten)          (None, 128)               0         \n",
            "_________________________________________________________________\n",
            "dense_3 (Dense)              (None, 1)                 129       \n",
            "=================================================================\n",
            "Total params: 609\n",
            "Trainable params: 609\n",
            "Non-trainable params: 0\n",
            "_________________________________________________________________\n",
            "None\n",
            "Epoch 1/5\n",
            "3/3 [==============================] - 1s 5ms/step - loss: 0.6883 - acc: 0.4688\n",
            "Epoch 2/5\n",
            "3/3 [==============================] - 0s 4ms/step - loss: 0.6847 - acc: 0.7250\n",
            "Epoch 3/5\n",
            "3/3 [==============================] - 0s 4ms/step - loss: 0.6774 - acc: 0.7250\n",
            "Epoch 4/5\n",
            "3/3 [==============================] - 0s 4ms/step - loss: 0.6801 - acc: 0.5687\n",
            "Epoch 5/5\n",
            "3/3 [==============================] - 0s 4ms/step - loss: 0.6687 - acc: 0.6937\n"
          ],
          "name": "stdout"
        },
        {
          "output_type": "execute_result",
          "data": {
            "text/plain": [
              "<keras.callbacks.History at 0x7f5ac68cd810>"
            ]
          },
          "metadata": {
            "tags": []
          },
          "execution_count": 19
        }
      ]
    },
    {
      "cell_type": "markdown",
      "metadata": {
        "id": "p3cDYIPmQNC0"
      },
      "source": [
        "# How about including Pre-Trained Model GloVe?"
      ]
    },
    {
      "cell_type": "code",
      "metadata": {
        "id": "oo0LIvseQLYs",
        "colab": {
          "base_uri": "https://localhost:8080/"
        },
        "outputId": "693b9cb8-ac17-4e56-bd8a-1f6ff7559290"
      },
      "source": [
        "import numpy as np\n",
        "import pandas as pd\n",
        "import tensorflow as tf\n",
        "from keras.models import Model\n",
        "from keras.layers import Dense, Flatten, Input, Embedding\n",
        "\n",
        "# define documents\n",
        "docs = ['Well done!', 'Good work', 'Great effort', 'nice work', 'Excellent!',\n",
        "\t\t'Weak', 'Poor effort!', 'not good', 'poor work', 'Could have done better.']\n",
        "# define class labels\n",
        "labels = [1,1,1,1,1,0,0,0,0,0]\n",
        "\n",
        "# prepare tokenizer\n",
        "from keras.preprocessing.text import Tokenizer\n",
        "tokenizer = tf.keras.preprocessing.text.Tokenizer(num_words=50,filters='!\"#$%&()*+,-./:;<=>?@[\\\\]^_`{|}~\\t\\n') # encode sequences of words with index\n",
        "tokenizer.fit_on_texts(docs) # create a hash map of numbers and words, word2idx & idx2word\n",
        "sequences = tokenizer.texts_to_sequences(docs) # shape = (# of docs, length of text)\n",
        "print(sequences)\n",
        "vocabulary_size = len(tokenizer.word_counts)\n",
        "print(\"The size of vocab.txt is\", vocabulary_size)\n",
        "\n",
        "# since the max sequence length of the corpus is 4 (doc[9]), \n",
        "# we are going to made the max_seq_len = 4 -> PADDING\n",
        "from keras.preprocessing.sequence import pad_sequences\n",
        "max_seq_len = 4\n",
        "sequences = pad_sequences(sequences, maxlen=max_seq_len, padding='post')\n",
        "print(sequences)"
      ],
      "execution_count": 20,
      "outputs": [
        {
          "output_type": "stream",
          "text": [
            "[[6, 2], [3, 1], [7, 4], [8, 1], [9], [10], [5, 4], [11, 3], [5, 1], [12, 13, 2, 14]]\n",
            "The size of vocab.txt is 14\n",
            "[[ 6  2  0  0]\n",
            " [ 3  1  0  0]\n",
            " [ 7  4  0  0]\n",
            " [ 8  1  0  0]\n",
            " [ 9  0  0  0]\n",
            " [10  0  0  0]\n",
            " [ 5  4  0  0]\n",
            " [11  3  0  0]\n",
            " [ 5  1  0  0]\n",
            " [12 13  2 14]]\n"
          ],
          "name": "stdout"
        }
      ]
    },
    {
      "cell_type": "code",
      "metadata": {
        "colab": {
          "base_uri": "https://localhost:8080/"
        },
        "id": "j7LGt1gYSBNp",
        "outputId": "f3420351-fd8c-452b-9b74-7543feeebae1"
      },
      "source": [
        "# hyper-parameters\n",
        "hidden_dim = 50 # glove.6B.50d.txt \"50d\"\n",
        "# load the whole embedding into memory\n",
        "embeddings_index = dict()\n",
        "f = open('./glove.6B.50d.txt', encoding='utf-8')\n",
        "for line in f:\n",
        "\tvalues = line.split()\n",
        "\tword = values[0]\n",
        "\tcoefs = np.array(values[1:], dtype='float32')\n",
        "\tembeddings_index[word] = coefs\n",
        "f.close()\n",
        "print('Loaded %s word vectors.' % len(embeddings_index))\n",
        "# create a weight matrix for words in training docs\n",
        "embedding_matrix = np.zeros((vocabulary_size+1, hidden_dim))\n",
        "for word, i in tokenizer.word_index.items():\n",
        "\tembedding_vector = embeddings_index.get(word)\n",
        "\tif embedding_vector is not None:\n",
        "\t\tembedding_matrix[i] = embedding_vector"
      ],
      "execution_count": 21,
      "outputs": [
        {
          "output_type": "stream",
          "text": [
            "Loaded 400000 word vectors.\n"
          ],
          "name": "stdout"
        }
      ]
    },
    {
      "cell_type": "code",
      "metadata": {
        "id": "rZOwoZ2JSHlm"
      },
      "source": [
        "# define simple model to understand what Embedding do\n",
        "def embedding_model(vocabulary_size, hidden_dim, max_seq_len):\n",
        "    input = Input(shape=(max_seq_len))\n",
        "    x = Embedding(input_dim=vocabulary_size, output_dim=hidden_dim, weights=[embedding_matrix], input_length=max_seq_len, trainable=False)(input)\n",
        "    x = Flatten()(x)\n",
        "    x = Dense(1, activation='sigmoid')(x)\n",
        "    model = Model(inputs=input, outputs=x)\n",
        "    return model"
      ],
      "execution_count": 22,
      "outputs": []
    },
    {
      "cell_type": "code",
      "metadata": {
        "colab": {
          "base_uri": "https://localhost:8080/"
        },
        "id": "HsFAzmNVVcFx",
        "outputId": "38a5376e-cfa4-4a99-f0b7-33cc178301f1"
      },
      "source": [
        "# model construction\n",
        "model = embedding_model(vocabulary_size+1, hidden_dim, max_seq_len)\n",
        "print(model.summary())\n",
        "# compile the model\n",
        "model.compile(optimizer='adam', loss='binary_crossentropy', metrics=['acc'])\n",
        "# fit the model\n",
        "model.fit(sequences, np.array(labels), batch_size=4, epochs=50)"
      ],
      "execution_count": 23,
      "outputs": [
        {
          "output_type": "stream",
          "text": [
            "Model: \"model_4\"\n",
            "_________________________________________________________________\n",
            "Layer (type)                 Output Shape              Param #   \n",
            "=================================================================\n",
            "input_6 (InputLayer)         [(None, 4)]               0         \n",
            "_________________________________________________________________\n",
            "embedding_5 (Embedding)      (None, 4, 50)             750       \n",
            "_________________________________________________________________\n",
            "flatten_4 (Flatten)          (None, 200)               0         \n",
            "_________________________________________________________________\n",
            "dense_4 (Dense)              (None, 1)                 201       \n",
            "=================================================================\n",
            "Total params: 951\n",
            "Trainable params: 201\n",
            "Non-trainable params: 750\n",
            "_________________________________________________________________\n",
            "None\n",
            "Epoch 1/50\n",
            "3/3 [==============================] - 0s 4ms/step - loss: 0.7507 - acc: 0.3875\n",
            "Epoch 2/50\n",
            "3/3 [==============================] - 0s 5ms/step - loss: 0.7207 - acc: 0.3875\n",
            "Epoch 3/50\n",
            "3/3 [==============================] - 0s 4ms/step - loss: 0.7084 - acc: 0.4688\n",
            "Epoch 4/50\n",
            "3/3 [==============================] - 0s 4ms/step - loss: 0.6947 - acc: 0.5312\n",
            "Epoch 5/50\n",
            "3/3 [==============================] - 0s 4ms/step - loss: 0.6909 - acc: 0.5312\n",
            "Epoch 6/50\n",
            "3/3 [==============================] - 0s 4ms/step - loss: 0.6622 - acc: 0.5000\n",
            "Epoch 7/50\n",
            "3/3 [==============================] - 0s 4ms/step - loss: 0.6323 - acc: 0.5938\n",
            "Epoch 8/50\n",
            "3/3 [==============================] - 0s 4ms/step - loss: 0.6683 - acc: 0.4375\n",
            "Epoch 9/50\n",
            "3/3 [==============================] - 0s 4ms/step - loss: 0.6462 - acc: 0.4375\n",
            "Epoch 10/50\n",
            "3/3 [==============================] - 0s 4ms/step - loss: 0.6235 - acc: 0.5312\n",
            "Epoch 11/50\n",
            "3/3 [==============================] - 0s 4ms/step - loss: 0.6083 - acc: 0.5000\n",
            "Epoch 12/50\n",
            "3/3 [==============================] - 0s 4ms/step - loss: 0.6121 - acc: 0.4688\n",
            "Epoch 13/50\n",
            "3/3 [==============================] - 0s 4ms/step - loss: 0.5895 - acc: 0.6125\n",
            "Epoch 14/50\n",
            "3/3 [==============================] - 0s 7ms/step - loss: 0.5774 - acc: 0.5813\n",
            "Epoch 15/50\n",
            "3/3 [==============================] - 0s 4ms/step - loss: 0.5722 - acc: 0.5500\n",
            "Epoch 16/50\n",
            "3/3 [==============================] - 0s 4ms/step - loss: 0.5848 - acc: 0.6438\n",
            "Epoch 17/50\n",
            "3/3 [==============================] - 0s 4ms/step - loss: 0.6045 - acc: 0.4875\n",
            "Epoch 18/50\n",
            "3/3 [==============================] - 0s 4ms/step - loss: 0.6017 - acc: 0.4875\n",
            "Epoch 19/50\n",
            "3/3 [==============================] - 0s 4ms/step - loss: 0.5722 - acc: 0.5500\n",
            "Epoch 20/50\n",
            "3/3 [==============================] - 0s 4ms/step - loss: 0.5407 - acc: 0.6937\n",
            "Epoch 21/50\n",
            "3/3 [==============================] - 0s 4ms/step - loss: 0.5236 - acc: 0.8562\n",
            "Epoch 22/50\n",
            "3/3 [==============================] - 0s 4ms/step - loss: 0.5383 - acc: 0.9187\n",
            "Epoch 23/50\n",
            "3/3 [==============================] - 0s 4ms/step - loss: 0.4918 - acc: 0.9187\n",
            "Epoch 24/50\n",
            "3/3 [==============================] - 0s 4ms/step - loss: 0.5327 - acc: 0.8562\n",
            "Epoch 25/50\n",
            "3/3 [==============================] - 0s 4ms/step - loss: 0.4872 - acc: 0.8562\n",
            "Epoch 26/50\n",
            "3/3 [==============================] - 0s 4ms/step - loss: 0.5213 - acc: 0.8562\n",
            "Epoch 27/50\n",
            "3/3 [==============================] - 0s 4ms/step - loss: 0.4712 - acc: 0.9500\n",
            "Epoch 28/50\n",
            "3/3 [==============================] - 0s 4ms/step - loss: 0.4832 - acc: 0.8562\n",
            "Epoch 29/50\n",
            "3/3 [==============================] - 0s 4ms/step - loss: 0.4921 - acc: 0.8562\n",
            "Epoch 30/50\n",
            "3/3 [==============================] - 0s 4ms/step - loss: 0.4495 - acc: 0.9187\n",
            "Epoch 31/50\n",
            "3/3 [==============================] - 0s 5ms/step - loss: 0.4377 - acc: 0.9187\n",
            "Epoch 32/50\n",
            "3/3 [==============================] - 0s 4ms/step - loss: 0.4146 - acc: 0.9187\n",
            "Epoch 33/50\n",
            "3/3 [==============================] - 0s 4ms/step - loss: 0.4749 - acc: 0.9187\n",
            "Epoch 34/50\n",
            "3/3 [==============================] - 0s 4ms/step - loss: 0.4486 - acc: 0.8562\n",
            "Epoch 35/50\n",
            "3/3 [==============================] - 0s 4ms/step - loss: 0.4091 - acc: 0.9187\n",
            "Epoch 36/50\n",
            "3/3 [==============================] - 0s 5ms/step - loss: 0.4473 - acc: 0.9500\n",
            "Epoch 37/50\n",
            "3/3 [==============================] - 0s 4ms/step - loss: 0.4152 - acc: 0.8562\n",
            "Epoch 38/50\n",
            "3/3 [==============================] - 0s 5ms/step - loss: 0.4132 - acc: 0.8562\n",
            "Epoch 39/50\n",
            "3/3 [==============================] - 0s 5ms/step - loss: 0.3810 - acc: 1.0000\n",
            "Epoch 40/50\n",
            "3/3 [==============================] - 0s 6ms/step - loss: 0.4125 - acc: 1.0000\n",
            "Epoch 41/50\n",
            "3/3 [==============================] - 0s 4ms/step - loss: 0.3939 - acc: 1.0000\n",
            "Epoch 42/50\n",
            "3/3 [==============================] - 0s 4ms/step - loss: 0.4199 - acc: 1.0000\n",
            "Epoch 43/50\n",
            "3/3 [==============================] - 0s 6ms/step - loss: 0.4312 - acc: 1.0000\n",
            "Epoch 44/50\n",
            "3/3 [==============================] - 0s 6ms/step - loss: 0.3690 - acc: 1.0000\n",
            "Epoch 45/50\n",
            "3/3 [==============================] - 0s 4ms/step - loss: 0.3942 - acc: 1.0000\n",
            "Epoch 46/50\n",
            "3/3 [==============================] - 0s 5ms/step - loss: 0.3721 - acc: 1.0000\n",
            "Epoch 47/50\n",
            "3/3 [==============================] - 0s 4ms/step - loss: 0.4074 - acc: 1.0000\n",
            "Epoch 48/50\n",
            "3/3 [==============================] - 0s 4ms/step - loss: 0.3508 - acc: 1.0000\n",
            "Epoch 49/50\n",
            "3/3 [==============================] - 0s 5ms/step - loss: 0.3735 - acc: 1.0000\n",
            "Epoch 50/50\n",
            "3/3 [==============================] - 0s 4ms/step - loss: 0.3951 - acc: 1.0000\n"
          ],
          "name": "stdout"
        },
        {
          "output_type": "execute_result",
          "data": {
            "text/plain": [
              "<keras.callbacks.History at 0x7f5ac53be3d0>"
            ]
          },
          "metadata": {
            "tags": []
          },
          "execution_count": 23
        }
      ]
    }
  ]
}