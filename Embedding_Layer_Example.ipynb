{
  "nbformat": 4,
  "nbformat_minor": 0,
  "metadata": {
    "colab": {
      "name": "Embedding-Layer-Example.ipynb",
      "provenance": [],
      "authorship_tag": "ABX9TyN41pD8HbUVVIVhIVobsThI",
      "include_colab_link": true
    },
    "kernelspec": {
      "name": "python3",
      "display_name": "Python 3"
    },
    "language_info": {
      "name": "python"
    },
    "accelerator": "GPU"
  },
  "cells": [
    {
      "cell_type": "markdown",
      "metadata": {
        "id": "view-in-github",
        "colab_type": "text"
      },
      "source": [
        "<a href=\"https://colab.research.google.com/github/harenlin/Simple-Text-Generation/blob/main/Embedding_Layer_Example.ipynb\" target=\"_parent\"><img src=\"https://colab.research.google.com/assets/colab-badge.svg\" alt=\"Open In Colab\"/></a>"
      ]
    },
    {
      "cell_type": "code",
      "metadata": {
        "id": "m0N9vNbtzOX0",
        "colab": {
          "base_uri": "https://localhost:8080/"
        },
        "outputId": "a8edf678-5829-410c-af6a-d33a005d6c39"
      },
      "source": [
        "import numpy as np\n",
        "import pandas as pd\n",
        "import tensorflow as tf\n",
        "from keras.models import Model\n",
        "from keras.layers import Dense, Flatten, Input, Embedding\n",
        "\n",
        "# define documents\n",
        "docs = ['Well done!', 'Good work', 'Great effort', 'nice work', 'Excellent!',\n",
        "\t\t'Weak', 'Poor effort!', 'not good', 'poor work', 'Could have done better.']\n",
        "# define class labels\n",
        "labels = [1,1,1,1,1,0,0,0,0,0]\n",
        "\n",
        "# prepare tokenizer\n",
        "from keras.preprocessing.text import Tokenizer\n",
        "tokenizer = tf.keras.preprocessing.text.Tokenizer(num_words=50,filters='!\"#$%&()*+,-./:;<=>?@[\\\\]^_`{|}~\\t\\n') # encode sequences of words with index\n",
        "tokenizer.fit_on_texts(docs) # create a hash map of numbers and words, word2idx & idx2word\n",
        "sequences = tokenizer.texts_to_sequences(docs) # shape = (# of docs, length of text)\n",
        "print(sequences)\n",
        "vocabulary_size = len(tokenizer.word_counts)\n",
        "print(\"The size of vocab.txt is\", vocabulary_size)"
      ],
      "execution_count": 1,
      "outputs": [
        {
          "output_type": "stream",
          "text": [
            "[[6, 2], [3, 1], [7, 4], [8, 1], [9], [10], [5, 4], [11, 3], [5, 1], [12, 13, 2, 14]]\n",
            "The size of vocab.txt is 14\n"
          ],
          "name": "stdout"
        }
      ]
    },
    {
      "cell_type": "code",
      "metadata": {
        "id": "leXq5BRrylcl",
        "colab": {
          "base_uri": "https://localhost:8080/"
        },
        "outputId": "67f26749-c6b1-4219-f585-10f5a11dc704"
      },
      "source": [
        "# p.s. Member Variables of Tokenizer()\n",
        "# (1) document_count = number of documents\n",
        "print(tokenizer.document_count) \n",
        "print(len(sequences))\n",
        "# (2) word_index = word2idx (index starting from 1)\n",
        "# (3) index_word = idx2word\n",
        "print(tokenizer.index_word[5])\n",
        "print(tokenizer.word_index[tokenizer.index_word[5]])\n",
        "# (4) word_counts = dictionary of the each word and its occurence\n",
        "print(tokenizer.word_counts)"
      ],
      "execution_count": 2,
      "outputs": [
        {
          "output_type": "stream",
          "text": [
            "10\n",
            "10\n",
            "poor\n",
            "5\n",
            "OrderedDict([('well', 1), ('done', 2), ('good', 2), ('work', 3), ('great', 1), ('effort', 2), ('nice', 1), ('excellent', 1), ('weak', 1), ('poor', 2), ('not', 1), ('could', 1), ('have', 1), ('better', 1)])\n"
          ],
          "name": "stdout"
        }
      ]
    },
    {
      "cell_type": "code",
      "metadata": {
        "colab": {
          "base_uri": "https://localhost:8080/"
        },
        "id": "2qz3DGJky85r",
        "outputId": "426c8d84-e788-4e41-cad8-0ec5dc32ea84"
      },
      "source": [
        "# since the max sequence length of the corpus is 4 (doc[9]), \n",
        "# we are going to made the max_seq_len = 4 -> PADDING\n",
        "from keras.preprocessing.sequence import pad_sequences\n",
        "max_seq_len = 4\n",
        "sequences = pad_sequences(sequences, maxlen=max_seq_len, padding='post')\n",
        "print(sequences)\n",
        "\n",
        "# define simple model to understand what Embedding do\n",
        "def embedding_model(vocabulary_size, hidden_dim, max_seq_len):\n",
        "    input = Input(shape=(max_seq_len))\n",
        "    x = Embedding(input_dim=vocabulary_size, output_dim=hidden_dim, input_length=max_seq_len)(input)\n",
        "    x = Flatten()(x)\n",
        "    x = Dense(1, activation='sigmoid')(x)\n",
        "    model = Model(inputs=input, outputs=x)\n",
        "    return model\n",
        "\n",
        "# hyper-parameters\n",
        "hidden_dim = 32\n",
        "# model construction\n",
        "model = embedding_model(vocabulary_size+1, hidden_dim, max_seq_len)\n",
        "print(model.summary())\n",
        "# compile the model\n",
        "model.compile(optimizer='adam', loss='binary_crossentropy', metrics=['acc'])\n",
        "# fit the model\n",
        "model.fit(sequences, np.array(labels), batch_size=4, epochs=5)"
      ],
      "execution_count": 3,
      "outputs": [
        {
          "output_type": "stream",
          "text": [
            "[[ 6  2  0  0]\n",
            " [ 3  1  0  0]\n",
            " [ 7  4  0  0]\n",
            " [ 8  1  0  0]\n",
            " [ 9  0  0  0]\n",
            " [10  0  0  0]\n",
            " [ 5  4  0  0]\n",
            " [11  3  0  0]\n",
            " [ 5  1  0  0]\n",
            " [12 13  2 14]]\n",
            "Model: \"model\"\n",
            "_________________________________________________________________\n",
            "Layer (type)                 Output Shape              Param #   \n",
            "=================================================================\n",
            "input_1 (InputLayer)         [(None, 4)]               0         \n",
            "_________________________________________________________________\n",
            "embedding (Embedding)        (None, 4, 32)             480       \n",
            "_________________________________________________________________\n",
            "flatten (Flatten)            (None, 128)               0         \n",
            "_________________________________________________________________\n",
            "dense (Dense)                (None, 1)                 129       \n",
            "=================================================================\n",
            "Total params: 609\n",
            "Trainable params: 609\n",
            "Non-trainable params: 0\n",
            "_________________________________________________________________\n",
            "None\n",
            "Epoch 1/5\n",
            "3/3 [==============================] - 14s 5ms/step - loss: 0.6861 - acc: 0.6312\n",
            "Epoch 2/5\n",
            "3/3 [==============================] - 0s 4ms/step - loss: 0.6798 - acc: 0.8688\n",
            "Epoch 3/5\n",
            "3/3 [==============================] - 0s 4ms/step - loss: 0.6764 - acc: 0.7125\n",
            "Epoch 4/5\n",
            "3/3 [==============================] - 0s 4ms/step - loss: 0.6654 - acc: 0.9500\n",
            "Epoch 5/5\n",
            "3/3 [==============================] - 0s 4ms/step - loss: 0.6666 - acc: 0.9500\n"
          ],
          "name": "stdout"
        },
        {
          "output_type": "execute_result",
          "data": {
            "text/plain": [
              "<keras.callbacks.History at 0x7f91f0238ed0>"
            ]
          },
          "metadata": {
            "tags": []
          },
          "execution_count": 3
        }
      ]
    }
  ]
}